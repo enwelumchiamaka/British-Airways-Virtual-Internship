{
 "cells": [
  {
   "cell_type": "markdown",
   "metadata": {},
   "source": [
    "## Task 2 - Predicting Customers Buying Behaviour"
   ]
  },
  {
   "cell_type": "code",
   "execution_count": 1,
   "metadata": {},
   "outputs": [],
   "source": [
    "%matplotlib inline \n",
    "\n",
    "import pandas as pd \n",
    "import numpy as np\n",
    "import matplotlib.pyplot as plt \n",
    "import seaborn as sns\n",
    "\n",
    "import warnings\n",
    "warnings.filterwarnings(\"ignore\")"
   ]
  },
  {
   "cell_type": "code",
   "execution_count": 2,
   "metadata": {},
   "outputs": [],
   "source": [
    "data = \"customer_booking .csv\""
   ]
  },
  {
   "cell_type": "code",
   "execution_count": 3,
   "metadata": {},
   "outputs": [
    {
     "name": "stdout",
     "output_type": "stream",
     "text": [
      "{'encoding': 'ISO-8859-1', 'confidence': 0.73, 'language': ''}\n"
     ]
    }
   ],
   "source": [
    "import chardet\n",
    "\n",
    "with open(\"customer_booking .csv\", 'rb') as rawdata:\n",
    "    result =  chardet.detect(rawdata.read(100000))\n",
    "\n",
    "print(result)"
   ]
  },
  {
   "cell_type": "code",
   "execution_count": 4,
   "metadata": {},
   "outputs": [
    {
     "data": {
      "text/html": [
       "<div>\n",
       "<style scoped>\n",
       "    .dataframe tbody tr th:only-of-type {\n",
       "        vertical-align: middle;\n",
       "    }\n",
       "\n",
       "    .dataframe tbody tr th {\n",
       "        vertical-align: top;\n",
       "    }\n",
       "\n",
       "    .dataframe thead th {\n",
       "        text-align: right;\n",
       "    }\n",
       "</style>\n",
       "<table border=\"1\" class=\"dataframe\">\n",
       "  <thead>\n",
       "    <tr style=\"text-align: right;\">\n",
       "      <th></th>\n",
       "      <th>num_passengers</th>\n",
       "      <th>sales_channel</th>\n",
       "      <th>trip_type</th>\n",
       "      <th>purchase_lead</th>\n",
       "      <th>length_of_stay</th>\n",
       "      <th>flight_hour</th>\n",
       "      <th>flight_day</th>\n",
       "      <th>route</th>\n",
       "      <th>booking_origin</th>\n",
       "      <th>wants_extra_baggage</th>\n",
       "      <th>wants_preferred_seat</th>\n",
       "      <th>wants_in_flight_meals</th>\n",
       "      <th>flight_duration</th>\n",
       "      <th>booking_complete</th>\n",
       "    </tr>\n",
       "  </thead>\n",
       "  <tbody>\n",
       "    <tr>\n",
       "      <th>0</th>\n",
       "      <td>2</td>\n",
       "      <td>Internet</td>\n",
       "      <td>RoundTrip</td>\n",
       "      <td>262</td>\n",
       "      <td>19</td>\n",
       "      <td>7</td>\n",
       "      <td>Sat</td>\n",
       "      <td>AKLDEL</td>\n",
       "      <td>New Zealand</td>\n",
       "      <td>1</td>\n",
       "      <td>0</td>\n",
       "      <td>0</td>\n",
       "      <td>5.52</td>\n",
       "      <td>0</td>\n",
       "    </tr>\n",
       "    <tr>\n",
       "      <th>1</th>\n",
       "      <td>1</td>\n",
       "      <td>Internet</td>\n",
       "      <td>RoundTrip</td>\n",
       "      <td>112</td>\n",
       "      <td>20</td>\n",
       "      <td>3</td>\n",
       "      <td>Sat</td>\n",
       "      <td>AKLDEL</td>\n",
       "      <td>New Zealand</td>\n",
       "      <td>0</td>\n",
       "      <td>0</td>\n",
       "      <td>0</td>\n",
       "      <td>5.52</td>\n",
       "      <td>0</td>\n",
       "    </tr>\n",
       "    <tr>\n",
       "      <th>2</th>\n",
       "      <td>2</td>\n",
       "      <td>Internet</td>\n",
       "      <td>RoundTrip</td>\n",
       "      <td>243</td>\n",
       "      <td>22</td>\n",
       "      <td>17</td>\n",
       "      <td>Wed</td>\n",
       "      <td>AKLDEL</td>\n",
       "      <td>India</td>\n",
       "      <td>1</td>\n",
       "      <td>1</td>\n",
       "      <td>0</td>\n",
       "      <td>5.52</td>\n",
       "      <td>0</td>\n",
       "    </tr>\n",
       "    <tr>\n",
       "      <th>3</th>\n",
       "      <td>1</td>\n",
       "      <td>Internet</td>\n",
       "      <td>RoundTrip</td>\n",
       "      <td>96</td>\n",
       "      <td>31</td>\n",
       "      <td>4</td>\n",
       "      <td>Sat</td>\n",
       "      <td>AKLDEL</td>\n",
       "      <td>New Zealand</td>\n",
       "      <td>0</td>\n",
       "      <td>0</td>\n",
       "      <td>1</td>\n",
       "      <td>5.52</td>\n",
       "      <td>0</td>\n",
       "    </tr>\n",
       "    <tr>\n",
       "      <th>4</th>\n",
       "      <td>2</td>\n",
       "      <td>Internet</td>\n",
       "      <td>RoundTrip</td>\n",
       "      <td>68</td>\n",
       "      <td>22</td>\n",
       "      <td>15</td>\n",
       "      <td>Wed</td>\n",
       "      <td>AKLDEL</td>\n",
       "      <td>India</td>\n",
       "      <td>1</td>\n",
       "      <td>0</td>\n",
       "      <td>1</td>\n",
       "      <td>5.52</td>\n",
       "      <td>0</td>\n",
       "    </tr>\n",
       "  </tbody>\n",
       "</table>\n",
       "</div>"
      ],
      "text/plain": [
       "   num_passengers sales_channel  trip_type  purchase_lead  length_of_stay  \\\n",
       "0               2      Internet  RoundTrip            262              19   \n",
       "1               1      Internet  RoundTrip            112              20   \n",
       "2               2      Internet  RoundTrip            243              22   \n",
       "3               1      Internet  RoundTrip             96              31   \n",
       "4               2      Internet  RoundTrip             68              22   \n",
       "\n",
       "   flight_hour flight_day   route booking_origin  wants_extra_baggage  \\\n",
       "0            7        Sat  AKLDEL    New Zealand                    1   \n",
       "1            3        Sat  AKLDEL    New Zealand                    0   \n",
       "2           17        Wed  AKLDEL          India                    1   \n",
       "3            4        Sat  AKLDEL    New Zealand                    0   \n",
       "4           15        Wed  AKLDEL          India                    1   \n",
       "\n",
       "   wants_preferred_seat  wants_in_flight_meals  flight_duration  \\\n",
       "0                     0                      0             5.52   \n",
       "1                     0                      0             5.52   \n",
       "2                     1                      0             5.52   \n",
       "3                     0                      1             5.52   \n",
       "4                     0                      1             5.52   \n",
       "\n",
       "   booking_complete  \n",
       "0                 0  \n",
       "1                 0  \n",
       "2                 0  \n",
       "3                 0  \n",
       "4                 0  "
      ]
     },
     "execution_count": 4,
     "metadata": {},
     "output_type": "execute_result"
    }
   ],
   "source": [
    "df = pd.read_csv(data, encoding = 'ISO-8859-1')\n",
    "df.head()"
   ]
  },
  {
   "cell_type": "code",
   "execution_count": 5,
   "metadata": {},
   "outputs": [
    {
     "data": {
      "text/plain": [
       "num_passengers             int64\n",
       "sales_channel             object\n",
       "trip_type                 object\n",
       "purchase_lead              int64\n",
       "length_of_stay             int64\n",
       "flight_hour                int64\n",
       "flight_day                object\n",
       "route                     object\n",
       "booking_origin            object\n",
       "wants_extra_baggage        int64\n",
       "wants_preferred_seat       int64\n",
       "wants_in_flight_meals      int64\n",
       "flight_duration          float64\n",
       "booking_complete           int64\n",
       "dtype: object"
      ]
     },
     "execution_count": 5,
     "metadata": {},
     "output_type": "execute_result"
    }
   ],
   "source": [
    "df.dtypes"
   ]
  },
  {
   "cell_type": "code",
   "execution_count": 6,
   "metadata": {},
   "outputs": [
    {
     "data": {
      "text/plain": [
       "(50000, 14)"
      ]
     },
     "execution_count": 6,
     "metadata": {},
     "output_type": "execute_result"
    }
   ],
   "source": [
    "df.shape "
   ]
  },
  {
   "cell_type": "code",
   "execution_count": 7,
   "metadata": {},
   "outputs": [
    {
     "data": {
      "text/plain": [
       "num_passengers           0\n",
       "sales_channel            0\n",
       "trip_type                0\n",
       "purchase_lead            0\n",
       "length_of_stay           0\n",
       "flight_hour              0\n",
       "flight_day               0\n",
       "route                    0\n",
       "booking_origin           0\n",
       "wants_extra_baggage      0\n",
       "wants_preferred_seat     0\n",
       "wants_in_flight_meals    0\n",
       "flight_duration          0\n",
       "booking_complete         0\n",
       "dtype: int64"
      ]
     },
     "execution_count": 7,
     "metadata": {},
     "output_type": "execute_result"
    }
   ],
   "source": [
    "#check for null values \n",
    "\n",
    "df.isnull().sum()\n",
    "\n"
   ]
  },
  {
   "cell_type": "code",
   "execution_count": 8,
   "metadata": {},
   "outputs": [
    {
     "data": {
      "text/plain": [
       "booking_complete\n",
       "0    42522\n",
       "1     7478\n",
       "Name: count, dtype: int64"
      ]
     },
     "execution_count": 8,
     "metadata": {},
     "output_type": "execute_result"
    }
   ],
   "source": [
    "df.booking_complete.value_counts()"
   ]
  },
  {
   "cell_type": "code",
   "execution_count": 11,
   "metadata": {},
   "outputs": [],
   "source": [
    "# Seperate the feature (X) and the target function (y)\n",
    "\n",
    "X = df.drop('booking_complete', axis=1)\n",
    "y = df['booking_complete']\n",
    "\n",
    "# convert object dtype columns to int dtype \n",
    "for colname in X.select_dtypes(include='object'):\n",
    "    #Factorize categorical column and replace it in X \n",
    "    X[colname], _ = X[colname].factorize()"
   ]
  },
  {
   "cell_type": "code",
   "execution_count": 12,
   "metadata": {},
   "outputs": [
    {
     "data": {
      "text/plain": [
       "num_passengers             int64\n",
       "sales_channel              int64\n",
       "trip_type                  int64\n",
       "purchase_lead              int64\n",
       "length_of_stay             int64\n",
       "flight_hour                int64\n",
       "flight_day                 int64\n",
       "route                      int64\n",
       "booking_origin             int64\n",
       "wants_extra_baggage        int64\n",
       "wants_preferred_seat       int64\n",
       "wants_in_flight_meals      int64\n",
       "flight_duration          float64\n",
       "dtype: object"
      ]
     },
     "execution_count": 12,
     "metadata": {},
     "output_type": "execute_result"
    }
   ],
   "source": [
    "X.dtypes"
   ]
  },
  {
   "cell_type": "code",
   "execution_count": 13,
   "metadata": {},
   "outputs": [
    {
     "data": {
      "text/plain": [
       "route                    0.052905\n",
       "booking_origin           0.048349\n",
       "flight_duration          0.017969\n",
       "wants_extra_baggage      0.009431\n",
       "length_of_stay           0.008674\n",
       "wants_preferred_seat     0.004283\n",
       "wants_in_flight_meals    0.003568\n",
       "num_passengers           0.002934\n",
       "purchase_lead            0.002328\n",
       "flight_hour              0.002051\n",
       "sales_channel            0.001784\n",
       "flight_day               0.000547\n",
       "trip_type                0.000000\n",
       "Name: MI scores, dtype: float64"
      ]
     },
     "execution_count": 13,
     "metadata": {},
     "output_type": "execute_result"
    }
   ],
   "source": [
    "from sklearn.feature_selection import mutual_info_classif\n",
    "\n",
    "mi_scores = mutual_info_classif(X,y)\n",
    "mi_scores = pd.Series(mi_scores, name=\"MI scores\", index=X.columns) \n",
    "mi_scores = mi_scores.sort_values(ascending=False)\n",
    "\n",
    "# Dispaly a few features with their Mi scores\n",
    "mi_scores"
   ]
  },
  {
   "cell_type": "code",
   "execution_count": 20,
   "metadata": {},
   "outputs": [
    {
     "data": {
      "image/png": "[encoded data removed]",
      "text/plain": [
       "<Figure size 800x500 with 1 Axes>"
      ]
     },
     "metadata": {},
     "output_type": "display_data"
    }
   ],
   "source": [
    "def plot_mi_scores(scores):\n",
    "    scores = scores.sort_values(ascending=True)\n",
    "    width = np.arange(len(scores))\n",
    "    ticks = list(scores.index)\n",
    "    plt.barh(width, scores)\n",
    "    plt.yticks(width, ticks)\n",
    "    plt.title(\"Mutual Information Scores\")\n",
    "\n",
    "plt.figure(dpi=100, figsize=(8,5))\n",
    "plot_mi_scores(mi_scores)"
   ]
  },
  {
   "cell_type": "code",
   "execution_count": 37,
   "metadata": {},
   "outputs": [],
   "source": [
    "#test train split \n",
    "\n",
    "from sklearn.model_selection import train_test_split\n",
    "\n",
    "#dataset split\n",
    "#creating a function for dataset split \n",
    "def dataset(X,y):\n",
    "    train_full_X, val_X, train_full_y, val_y = train_test_split(X, y, test_size=0.2, random_state=0)\n",
    "\n",
    "# use the same function above for the validation set \n",
    "    train_X, test_X, train_y, test_y = train_test_split(train_full_X, train_full_y, test_size=0.25, random_state=0)\n",
    "    return(train_X, val_X, train_y, val_y)"
   ]
  },
  {
   "cell_type": "code",
   "execution_count": 38,
   "metadata": {},
   "outputs": [],
   "source": [
    "from sklearn.preprocessing import MinMaxScaler\n",
    "\n",
    "def scale(X):\n",
    "    scaler = MinMaxScaler() \n",
    "    scaler.fit(X)\n",
    "    return X"
   ]
  },
  {
   "cell_type": "markdown",
   "metadata": {},
   "source": [
    "# Model 1: Random forest classifier with top 6 features"
   ]
  },
  {
   "cell_type": "code",
   "execution_count": 39,
   "metadata": {},
   "outputs": [
    {
     "name": "stdout",
     "output_type": "stream",
     "text": [
      "Accuracy:  83.36\n",
      "Auc score:  0.5657818407546988\n"
     ]
    }
   ],
   "source": [
    "from sklearn.metrics import roc_auc_score\n",
    "from sklearn.metrics import accuracy_score\n",
    "from sklearn.ensemble import RandomForestClassifier\n",
    "from sklearn.preprocessing import scale \n",
    "\n",
    "#assigning the features under a list \n",
    "\n",
    "features=['route', 'booking_origin', 'flight_duration', 'wants_extra_baggage', 'length_of_stay', 'num_passengers']\n",
    "X = df[features]\n",
    "#one hot encoding\n",
    "X = pd.get_dummies(X, columns=features)\n",
    "X = scale(X)\n",
    "y= df.booking_complete\n",
    "\n",
    "X_train, X_val, y_train, y_val = dataset(X,y)\n",
    "\n",
    "forest_model = RandomForestClassifier(random_state=1)\n",
    "forest_model.fit(X_train, y_train)\n",
    "preds=forest_model.predict(X_val)\n",
    "\n",
    "print('Accuracy: ', accuracy_score(y_val, preds) * 100)\n",
    "print('Auc score: ', roc_auc_score(y_val, preds))\n"
   ]
  },
  {
   "cell_type": "markdown",
   "metadata": {},
   "source": [
    "# Model 2 : Random forest classifier with all features "
   ]
  },
  {
   "cell_type": "code",
   "execution_count": 41,
   "metadata": {},
   "outputs": [
    {
     "name": "stdout",
     "output_type": "stream",
     "text": [
      "ACCURACY:  84.77\n",
      "AUC score:  0.548019322113966\n"
     ]
    }
   ],
   "source": [
    "X = df.drop('booking_complete', axis=1)\n",
    "#one hot encoding \n",
    "X = pd.get_dummies(X)\n",
    "X = scale(X)\n",
    "y =  df.booking_complete\n",
    "\n",
    "X_train, X_val, y_train, y_val = dataset(X,y)\n",
    "\n",
    "forest_model =  RandomForestClassifier(random_state=1)\n",
    "forest_model.fit(X_train, y_train)\n",
    "preds= forest_model.predict(X_val)\n",
    "\n",
    "print('ACCURACY: ', accuracy_score(y_val, preds)*100)\n",
    "print('AUC score: ', roc_auc_score(y_val,preds))"
   ]
  },
  {
   "cell_type": "markdown",
   "metadata": {},
   "source": [
    "Using random forest model with all features as final model, as it has good accuracy and higher acu score when compared to other models \n",
    "\n",
    "Validating with test data set "
   ]
  },
  {
   "cell_type": "code",
   "execution_count": 43,
   "metadata": {},
   "outputs": [
    {
     "name": "stdout",
     "output_type": "stream",
     "text": [
      "ACCURACY:  85.08\n",
      "AUC score:  0.5577207581035838\n"
     ]
    }
   ],
   "source": [
    "X =  df.drop('booking_complete', axis=1)\n",
    "#one hot encoding \n",
    "X =  pd.get_dummies(X)\n",
    "X = scale(X)\n",
    "y =  df.booking_complete\n",
    "\n",
    "train_full_X, test_X, train_full_y, test_y = train_test_split(X, y, test_size=0.2, random_state  = 0)\n",
    "\n",
    "forest_model = RandomForestClassifier(random_state=1)\n",
    "forest_model.fit(train_full_X, train_full_y)\n",
    "preds= forest_model.predict(test_X)\n",
    "\n",
    "print('ACCURACY: ', accuracy_score(test_y, preds) *100)\n",
    "print('AUC score: ', roc_auc_score(test_y, preds))"
   ]
  }
 ],
 "metadata": {
  "kernelspec": {
   "display_name": "Python 3",
   "language": "python",
   "name": "python3"
  },
  "language_info": {
   "codemirror_mode": {
    "name": "ipython",
    "version": 3
   },
   "file_extension": ".py",
   "mimetype": "text/x-python",
   "name": "python",
   "nbconvert_exporter": "python",
   "pygments_lexer": "ipython3",
   "version": "3.11.4"
  },
  "orig_nbformat": 4
 },
 "nbformat": 4,
 "nbformat_minor": 2
}
