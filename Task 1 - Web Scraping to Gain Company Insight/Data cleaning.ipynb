{
 "cells": [
  {
   "cell_type": "markdown",
   "metadata": {},
   "source": [
    "# Data Cleaning \n",
    "\n",
    "Now we have extracted data from the website, it is not cleaned and ready to be analyzed. \n",
    "The review section will need to be cleaned for punctuations, spelling and other characters."
   ]
  },
  {
   "cell_type": "code",
   "execution_count": 1,
   "metadata": {},
   "outputs": [],
   "source": [
    "# imports\n",
    "\n",
    "import pandas as pd \n",
    "import numpy as np\n",
    "import matplotlib.pyplot as plt\n",
    "import seaborn as sns\n",
    "\n",
    "#regex\n",
    "import re "
   ]
  },
  {
   "cell_type": "code",
   "execution_count": 2,
   "metadata": {},
   "outputs": [],
   "source": [
    "#create a dataframe froma a csv file \n",
    "\n",
    "df = pd.read_csv(\"BA_reviews.csv\", index_col=0)\n"
   ]
  },
  {
   "cell_type": "code",
   "execution_count": 3,
   "metadata": {},
   "outputs": [
    {
     "data": {
      "text/html": [
       "<div>\n",
       "<style scoped>\n",
       "    .dataframe tbody tr th:only-of-type {\n",
       "        vertical-align: middle;\n",
       "    }\n",
       "\n",
       "    .dataframe tbody tr th {\n",
       "        vertical-align: top;\n",
       "    }\n",
       "\n",
       "    .dataframe thead th {\n",
       "        text-align: right;\n",
       "    }\n",
       "</style>\n",
       "<table border=\"1\" class=\"dataframe\">\n",
       "  <thead>\n",
       "    <tr style=\"text-align: right;\">\n",
       "      <th></th>\n",
       "      <th>reviews</th>\n",
       "      <th>dates</th>\n",
       "      <th>countries</th>\n",
       "    </tr>\n",
       "  </thead>\n",
       "  <tbody>\n",
       "    <tr>\n",
       "      <th>0</th>\n",
       "      <td>✅ Trip Verified |  British Airways has a total...</td>\n",
       "      <td>4th September 2023</td>\n",
       "      <td>United Kingdom</td>\n",
       "    </tr>\n",
       "    <tr>\n",
       "      <th>1</th>\n",
       "      <td>✅ Trip Verified | London Heathrow to Keflavik,...</td>\n",
       "      <td>4th September 2023</td>\n",
       "      <td>Iceland</td>\n",
       "    </tr>\n",
       "    <tr>\n",
       "      <th>2</th>\n",
       "      <td>✅ Trip Verified | Mumbai to London Heathrow in...</td>\n",
       "      <td>4th September 2023</td>\n",
       "      <td>Iceland</td>\n",
       "    </tr>\n",
       "    <tr>\n",
       "      <th>3</th>\n",
       "      <td>✅ Trip Verified |  Care and support shocking. ...</td>\n",
       "      <td>4th September 2023</td>\n",
       "      <td>United Kingdom</td>\n",
       "    </tr>\n",
       "    <tr>\n",
       "      <th>4</th>\n",
       "      <td>✅ Trip Verified |  Flying A380 business class ...</td>\n",
       "      <td>2nd September 2023</td>\n",
       "      <td>Australia</td>\n",
       "    </tr>\n",
       "  </tbody>\n",
       "</table>\n",
       "</div>"
      ],
      "text/plain": [
       "                                             reviews               dates  \\\n",
       "0  ✅ Trip Verified |  British Airways has a total...  4th September 2023   \n",
       "1  ✅ Trip Verified | London Heathrow to Keflavik,...  4th September 2023   \n",
       "2  ✅ Trip Verified | Mumbai to London Heathrow in...  4th September 2023   \n",
       "3  ✅ Trip Verified |  Care and support shocking. ...  4th September 2023   \n",
       "4  ✅ Trip Verified |  Flying A380 business class ...  2nd September 2023   \n",
       "\n",
       "        countries  \n",
       "0  United Kingdom  \n",
       "1         Iceland  \n",
       "2         Iceland  \n",
       "3  United Kingdom  \n",
       "4       Australia  "
      ]
     },
     "execution_count": 3,
     "metadata": {},
     "output_type": "execute_result"
    }
   ],
   "source": [
    "df.head()"
   ]
  },
  {
   "cell_type": "code",
   "execution_count": 4,
   "metadata": {},
   "outputs": [],
   "source": [
    "df['verified'] = df.reviews.str.contains(\"Trip Verified\")"
   ]
  },
  {
   "cell_type": "code",
   "execution_count": 5,
   "metadata": {},
   "outputs": [
    {
     "data": {
      "text/plain": [
       "0        True\n",
       "1        True\n",
       "2        True\n",
       "3        True\n",
       "4        True\n",
       "        ...  \n",
       "3638    False\n",
       "3639    False\n",
       "3640    False\n",
       "3641    False\n",
       "3642    False\n",
       "Name: verified, Length: 3643, dtype: bool"
      ]
     },
     "execution_count": 5,
     "metadata": {},
     "output_type": "execute_result"
    }
   ],
   "source": [
    "df['verified']"
   ]
  },
  {
   "cell_type": "markdown",
   "metadata": {},
   "source": [
    "## Cleaning Reviews\n",
    "\n",
    "we will extract the column of reviews into a seperate dataframe and clean it for semantic analysis"
   ]
  },
  {
   "cell_type": "code",
   "execution_count": 6,
   "metadata": {},
   "outputs": [],
   "source": [
    "#for lemmatization of words we will use nltk library\n",
    "from nltk.stem import WordNetLemmatizer\n",
    "from nltk.corpus import stopwords\n",
    "lemma = WordNetLemmatizer()\n",
    "\n",
    "\n",
    "reviews_data = df.reviews.str.strip(\"✅ Trip Verified |\")\n",
    "\n",
    "#create an empty list to collect cleaned data corpus\n",
    "corpus =[]\n",
    "\n",
    "#loop through each review, remove punctuations, small case it, join it and add it to corpus\n",
    "for rev in reviews_data:\n",
    "    rev = re.sub('[^a-zA-Z]',' ', rev)\n",
    "    rev = rev.lower()\n",
    "    rev = rev.split()\n",
    "    rev = [lemma.lemmatize(word) for word in rev if word not in set(stopwords.words(\"english\"))]\n",
    "    rev = \" \".join(rev)\n",
    "    corpus.append(rev)"
   ]
  },
  {
   "cell_type": "code",
   "execution_count": 7,
   "metadata": {},
   "outputs": [],
   "source": [
    "# add the corpus to the original dataframe\n",
    "\n",
    "df['corpus'] = corpus"
   ]
  },
  {
   "cell_type": "code",
   "execution_count": 8,
   "metadata": {},
   "outputs": [
    {
     "data": {
      "text/html": [
       "<div>\n",
       "<style scoped>\n",
       "    .dataframe tbody tr th:only-of-type {\n",
       "        vertical-align: middle;\n",
       "    }\n",
       "\n",
       "    .dataframe tbody tr th {\n",
       "        vertical-align: top;\n",
       "    }\n",
       "\n",
       "    .dataframe thead th {\n",
       "        text-align: right;\n",
       "    }\n",
       "</style>\n",
       "<table border=\"1\" class=\"dataframe\">\n",
       "  <thead>\n",
       "    <tr style=\"text-align: right;\">\n",
       "      <th></th>\n",
       "      <th>reviews</th>\n",
       "      <th>dates</th>\n",
       "      <th>countries</th>\n",
       "      <th>verified</th>\n",
       "      <th>corpus</th>\n",
       "    </tr>\n",
       "  </thead>\n",
       "  <tbody>\n",
       "    <tr>\n",
       "      <th>0</th>\n",
       "      <td>✅ Trip Verified |  British Airways has a total...</td>\n",
       "      <td>4th September 2023</td>\n",
       "      <td>United Kingdom</td>\n",
       "      <td>True</td>\n",
       "      <td>british airway total lack respect customer boo...</td>\n",
       "    </tr>\n",
       "    <tr>\n",
       "      <th>1</th>\n",
       "      <td>✅ Trip Verified | London Heathrow to Keflavik,...</td>\n",
       "      <td>4th September 2023</td>\n",
       "      <td>Iceland</td>\n",
       "      <td>True</td>\n",
       "      <td>london heathrow keflavik iceland business clas...</td>\n",
       "    </tr>\n",
       "    <tr>\n",
       "      <th>2</th>\n",
       "      <td>✅ Trip Verified | Mumbai to London Heathrow in...</td>\n",
       "      <td>4th September 2023</td>\n",
       "      <td>Iceland</td>\n",
       "      <td>True</td>\n",
       "      <td>mumbai london heathrow business class ageing b...</td>\n",
       "    </tr>\n",
       "    <tr>\n",
       "      <th>3</th>\n",
       "      <td>✅ Trip Verified |  Care and support shocking. ...</td>\n",
       "      <td>4th September 2023</td>\n",
       "      <td>United Kingdom</td>\n",
       "      <td>True</td>\n",
       "      <td>care support shocking written previously loyal...</td>\n",
       "    </tr>\n",
       "    <tr>\n",
       "      <th>4</th>\n",
       "      <td>✅ Trip Verified |  Flying A380 business class ...</td>\n",
       "      <td>2nd September 2023</td>\n",
       "      <td>Australia</td>\n",
       "      <td>True</td>\n",
       "      <td>flying business class pleasure ba made disaste...</td>\n",
       "    </tr>\n",
       "  </tbody>\n",
       "</table>\n",
       "</div>"
      ],
      "text/plain": [
       "                                             reviews               dates  \\\n",
       "0  ✅ Trip Verified |  British Airways has a total...  4th September 2023   \n",
       "1  ✅ Trip Verified | London Heathrow to Keflavik,...  4th September 2023   \n",
       "2  ✅ Trip Verified | Mumbai to London Heathrow in...  4th September 2023   \n",
       "3  ✅ Trip Verified |  Care and support shocking. ...  4th September 2023   \n",
       "4  ✅ Trip Verified |  Flying A380 business class ...  2nd September 2023   \n",
       "\n",
       "        countries  verified                                             corpus  \n",
       "0  United Kingdom      True  british airway total lack respect customer boo...  \n",
       "1         Iceland      True  london heathrow keflavik iceland business clas...  \n",
       "2         Iceland      True  mumbai london heathrow business class ageing b...  \n",
       "3  United Kingdom      True  care support shocking written previously loyal...  \n",
       "4       Australia      True  flying business class pleasure ba made disaste...  "
      ]
     },
     "execution_count": 8,
     "metadata": {},
     "output_type": "execute_result"
    }
   ],
   "source": [
    "df.head()"
   ]
  },
  {
   "cell_type": "markdown",
   "metadata": {},
   "source": [
    " Cleaning/ formating of date"
   ]
  },
  {
   "cell_type": "code",
   "execution_count": 9,
   "metadata": {},
   "outputs": [
    {
     "data": {
      "text/plain": [
       "reviews      object\n",
       "dates        object\n",
       "countries    object\n",
       "verified       bool\n",
       "corpus       object\n",
       "dtype: object"
      ]
     },
     "execution_count": 9,
     "metadata": {},
     "output_type": "execute_result"
    }
   ],
   "source": [
    "df.dtypes"
   ]
  },
  {
   "cell_type": "code",
   "execution_count": 10,
   "metadata": {},
   "outputs": [],
   "source": [
    "# convert the data to datatime format \n",
    "\n",
    "df.dates = pd.to_datetime(df['dates'], format='mixed')"
   ]
  },
  {
   "cell_type": "code",
   "execution_count": 11,
   "metadata": {},
   "outputs": [
    {
     "data": {
      "text/plain": [
       "0   2023-09-04\n",
       "1   2023-09-04\n",
       "2   2023-09-04\n",
       "3   2023-09-04\n",
       "4   2023-09-02\n",
       "Name: dates, dtype: datetime64[ns]"
      ]
     },
     "execution_count": 11,
     "metadata": {},
     "output_type": "execute_result"
    }
   ],
   "source": [
    "df.dates.head()"
   ]
  },
  {
   "cell_type": "markdown",
   "metadata": {},
   "source": [
    "Check for null Values "
   ]
  },
  {
   "cell_type": "code",
   "execution_count": 12,
   "metadata": {},
   "outputs": [
    {
     "data": {
      "text/plain": [
       "reviews  dates  countries  verified  corpus\n",
       "False    False  False      False     False     3641\n",
       "                True       False     False        2\n",
       "Name: count, dtype: int64"
      ]
     },
     "execution_count": 12,
     "metadata": {},
     "output_type": "execute_result"
    }
   ],
   "source": [
    "df.isnull().value_counts()\n",
    "\n"
   ]
  },
  {
   "cell_type": "code",
   "execution_count": 13,
   "metadata": {},
   "outputs": [
    {
     "data": {
      "text/plain": [
       "countries\n",
       "False    3641\n",
       "True        2\n",
       "Name: count, dtype: int64"
      ]
     },
     "execution_count": 13,
     "metadata": {},
     "output_type": "execute_result"
    }
   ],
   "source": [
    "df.countries.isnull().value_counts()"
   ]
  },
  {
   "cell_type": "code",
   "execution_count": 14,
   "metadata": {},
   "outputs": [
    {
     "data": {
      "text/plain": [
       "(3643, 5)"
      ]
     },
     "execution_count": 14,
     "metadata": {},
     "output_type": "execute_result"
    }
   ],
   "source": [
    "df.shape "
   ]
  },
  {
   "cell_type": "code",
   "execution_count": 15,
   "metadata": {},
   "outputs": [
    {
     "data": {
      "text/html": [
       "<div>\n",
       "<style scoped>\n",
       "    .dataframe tbody tr th:only-of-type {\n",
       "        vertical-align: middle;\n",
       "    }\n",
       "\n",
       "    .dataframe tbody tr th {\n",
       "        vertical-align: top;\n",
       "    }\n",
       "\n",
       "    .dataframe thead th {\n",
       "        text-align: right;\n",
       "    }\n",
       "</style>\n",
       "<table border=\"1\" class=\"dataframe\">\n",
       "  <thead>\n",
       "    <tr style=\"text-align: right;\">\n",
       "      <th></th>\n",
       "      <th>reviews</th>\n",
       "      <th>dates</th>\n",
       "      <th>countries</th>\n",
       "      <th>verified</th>\n",
       "      <th>corpus</th>\n",
       "    </tr>\n",
       "  </thead>\n",
       "  <tbody>\n",
       "    <tr>\n",
       "      <th>0</th>\n",
       "      <td>✅ Trip Verified |  British Airways has a total...</td>\n",
       "      <td>2023-09-04</td>\n",
       "      <td>United Kingdom</td>\n",
       "      <td>True</td>\n",
       "      <td>british airway total lack respect customer boo...</td>\n",
       "    </tr>\n",
       "    <tr>\n",
       "      <th>1</th>\n",
       "      <td>✅ Trip Verified | London Heathrow to Keflavik,...</td>\n",
       "      <td>2023-09-04</td>\n",
       "      <td>Iceland</td>\n",
       "      <td>True</td>\n",
       "      <td>london heathrow keflavik iceland business clas...</td>\n",
       "    </tr>\n",
       "    <tr>\n",
       "      <th>2</th>\n",
       "      <td>✅ Trip Verified | Mumbai to London Heathrow in...</td>\n",
       "      <td>2023-09-04</td>\n",
       "      <td>Iceland</td>\n",
       "      <td>True</td>\n",
       "      <td>mumbai london heathrow business class ageing b...</td>\n",
       "    </tr>\n",
       "    <tr>\n",
       "      <th>3</th>\n",
       "      <td>✅ Trip Verified |  Care and support shocking. ...</td>\n",
       "      <td>2023-09-04</td>\n",
       "      <td>United Kingdom</td>\n",
       "      <td>True</td>\n",
       "      <td>care support shocking written previously loyal...</td>\n",
       "    </tr>\n",
       "    <tr>\n",
       "      <th>4</th>\n",
       "      <td>✅ Trip Verified |  Flying A380 business class ...</td>\n",
       "      <td>2023-09-02</td>\n",
       "      <td>Australia</td>\n",
       "      <td>True</td>\n",
       "      <td>flying business class pleasure ba made disaste...</td>\n",
       "    </tr>\n",
       "    <tr>\n",
       "      <th>...</th>\n",
       "      <td>...</td>\n",
       "      <td>...</td>\n",
       "      <td>...</td>\n",
       "      <td>...</td>\n",
       "      <td>...</td>\n",
       "    </tr>\n",
       "    <tr>\n",
       "      <th>3638</th>\n",
       "      <td>Flew LHR - VIE return operated by bmi but BA a...</td>\n",
       "      <td>2012-08-29</td>\n",
       "      <td>United Kingdom</td>\n",
       "      <td>False</td>\n",
       "      <td>flew lhr vie return operated bmi ba aircraft a...</td>\n",
       "    </tr>\n",
       "    <tr>\n",
       "      <th>3639</th>\n",
       "      <td>LHR to HAM. Purser addresses all club passenge...</td>\n",
       "      <td>2012-08-28</td>\n",
       "      <td>United Kingdom</td>\n",
       "      <td>False</td>\n",
       "      <td>lhr ham purser address club passenger name boa...</td>\n",
       "    </tr>\n",
       "    <tr>\n",
       "      <th>3640</th>\n",
       "      <td>My son who had worked for British Airways urge...</td>\n",
       "      <td>2011-10-12</td>\n",
       "      <td>United Kingdom</td>\n",
       "      <td>False</td>\n",
       "      <td>son worked british airway urged fly british ai...</td>\n",
       "    </tr>\n",
       "    <tr>\n",
       "      <th>3641</th>\n",
       "      <td>London City-New York JFK via Shannon on A318 b...</td>\n",
       "      <td>2011-10-11</td>\n",
       "      <td>United States</td>\n",
       "      <td>False</td>\n",
       "      <td>london city new york jfk via shannon really ni...</td>\n",
       "    </tr>\n",
       "    <tr>\n",
       "      <th>3642</th>\n",
       "      <td>SIN-LHR BA12 B747-436 First Class. Old aircraf...</td>\n",
       "      <td>2011-10-09</td>\n",
       "      <td>United Kingdom</td>\n",
       "      <td>False</td>\n",
       "      <td>sin lhr ba b first class old aircraft seat pri...</td>\n",
       "    </tr>\n",
       "  </tbody>\n",
       "</table>\n",
       "<p>3643 rows × 5 columns</p>\n",
       "</div>"
      ],
      "text/plain": [
       "                                                reviews      dates  \\\n",
       "0     ✅ Trip Verified |  British Airways has a total... 2023-09-04   \n",
       "1     ✅ Trip Verified | London Heathrow to Keflavik,... 2023-09-04   \n",
       "2     ✅ Trip Verified | Mumbai to London Heathrow in... 2023-09-04   \n",
       "3     ✅ Trip Verified |  Care and support shocking. ... 2023-09-04   \n",
       "4     ✅ Trip Verified |  Flying A380 business class ... 2023-09-02   \n",
       "...                                                 ...        ...   \n",
       "3638  Flew LHR - VIE return operated by bmi but BA a... 2012-08-29   \n",
       "3639  LHR to HAM. Purser addresses all club passenge... 2012-08-28   \n",
       "3640  My son who had worked for British Airways urge... 2011-10-12   \n",
       "3641  London City-New York JFK via Shannon on A318 b... 2011-10-11   \n",
       "3642  SIN-LHR BA12 B747-436 First Class. Old aircraf... 2011-10-09   \n",
       "\n",
       "           countries  verified  \\\n",
       "0     United Kingdom      True   \n",
       "1            Iceland      True   \n",
       "2            Iceland      True   \n",
       "3     United Kingdom      True   \n",
       "4          Australia      True   \n",
       "...              ...       ...   \n",
       "3638  United Kingdom     False   \n",
       "3639  United Kingdom     False   \n",
       "3640  United Kingdom     False   \n",
       "3641   United States     False   \n",
       "3642  United Kingdom     False   \n",
       "\n",
       "                                                 corpus  \n",
       "0     british airway total lack respect customer boo...  \n",
       "1     london heathrow keflavik iceland business clas...  \n",
       "2     mumbai london heathrow business class ageing b...  \n",
       "3     care support shocking written previously loyal...  \n",
       "4     flying business class pleasure ba made disaste...  \n",
       "...                                                 ...  \n",
       "3638  flew lhr vie return operated bmi ba aircraft a...  \n",
       "3639  lhr ham purser address club passenger name boa...  \n",
       "3640  son worked british airway urged fly british ai...  \n",
       "3641  london city new york jfk via shannon really ni...  \n",
       "3642  sin lhr ba b first class old aircraft seat pri...  \n",
       "\n",
       "[3643 rows x 5 columns]"
      ]
     },
     "execution_count": 15,
     "metadata": {},
     "output_type": "execute_result"
    }
   ],
   "source": [
    "#Resetting the index \n",
    "\n",
    "df.reset_index(drop=True)"
   ]
  },
  {
   "cell_type": "markdown",
   "metadata": {},
   "source": [
    "Now my data is clean and ready for data visualization and data analysis "
   ]
  },
  {
   "cell_type": "code",
   "execution_count": 16,
   "metadata": {},
   "outputs": [],
   "source": [
    "#Export the clean data \n",
    "\n",
    "df.to_csv('cleaned-BA-reviews.csv')"
   ]
  }
 ],
 "metadata": {
  "kernelspec": {
   "display_name": "Python 3",
   "language": "python",
   "name": "python3"
  },
  "language_info": {
   "codemirror_mode": {
    "name": "ipython",
    "version": 3
   },
   "file_extension": ".py",
   "mimetype": "text/x-python",
   "name": "python",
   "nbconvert_exporter": "python",
   "pygments_lexer": "ipython3",
   "version": "3.11.4"
  },
  "orig_nbformat": 4
 },
 "nbformat": 4,
 "nbformat_minor": 2
}
