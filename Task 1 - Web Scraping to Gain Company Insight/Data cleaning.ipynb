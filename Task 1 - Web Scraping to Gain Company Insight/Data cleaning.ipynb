{
 "cells": [
  {
   "cell_type": "markdown",
   "metadata": {},
   "source": [
    "# Data Cleaning \n",
    "\n",
    "Now we have extracted data from the website, it is not cleaned and ready to be analyzed. \n",
    "The review section will need to be cleaned for punctuations, spelling and other characters."
   ]
  },
  {
   "cell_type": "code",
   "execution_count": 20,
   "metadata": {},
   "outputs": [],
   "source": [
    "# imports\n",
    "\n",
    "import pandas as pd \n",
    "import numpy as np\n",
    "import matplotlib.pyplot as plt\n",
    "import seaborn as sns\n",
    "\n",
    "#regex\n",
    "import re "
   ]
  },
  {
   "cell_type": "code",
   "execution_count": 21,
   "metadata": {},
   "outputs": [],
   "source": [
    "#create a dataframe froma a csv file \n",
    "\n",
    "df = pd.read_csv(\"BA_reviews.csv\", index_col=0)\n"
   ]
  },
  {
   "cell_type": "code",
   "execution_count": 22,
   "metadata": {},
   "outputs": [
    {
     "data": {
      "text/html": [
       "<div>\n",
       "<style scoped>\n",
       "    .dataframe tbody tr th:only-of-type {\n",
       "        vertical-align: middle;\n",
       "    }\n",
       "\n",
       "    .dataframe tbody tr th {\n",
       "        vertical-align: top;\n",
       "    }\n",
       "\n",
       "    .dataframe thead th {\n",
       "        text-align: right;\n",
       "    }\n",
       "</style>\n",
       "<table border=\"1\" class=\"dataframe\">\n",
       "  <thead>\n",
       "    <tr style=\"text-align: right;\">\n",
       "      <th></th>\n",
       "      <th>reviews</th>\n",
       "      <th>dates</th>\n",
       "      <th>countries</th>\n",
       "    </tr>\n",
       "  </thead>\n",
       "  <tbody>\n",
       "    <tr>\n",
       "      <th>0</th>\n",
       "      <td>✅ Trip Verified |  Filthy plane, cabin staff o...</td>\n",
       "      <td>28th August 2023</td>\n",
       "      <td>United Kingdom</td>\n",
       "    </tr>\n",
       "    <tr>\n",
       "      <th>1</th>\n",
       "      <td>✅ Trip Verified |   Chaos at Terminal 5 with B...</td>\n",
       "      <td>27th August 2023</td>\n",
       "      <td>United Kingdom</td>\n",
       "    </tr>\n",
       "    <tr>\n",
       "      <th>2</th>\n",
       "      <td>Not Verified |  BA cancelled our flight and co...</td>\n",
       "      <td>27th August 2023</td>\n",
       "      <td>United Kingdom</td>\n",
       "    </tr>\n",
       "    <tr>\n",
       "      <th>3</th>\n",
       "      <td>✅ Trip Verified | When on our way to Heathrow ...</td>\n",
       "      <td>27th August 2023</td>\n",
       "      <td>United Kingdom</td>\n",
       "    </tr>\n",
       "    <tr>\n",
       "      <th>4</th>\n",
       "      <td>✅ Trip Verified | Nice flight, good crew, very...</td>\n",
       "      <td>26th August 2023</td>\n",
       "      <td>United States</td>\n",
       "    </tr>\n",
       "  </tbody>\n",
       "</table>\n",
       "</div>"
      ],
      "text/plain": [
       "                                             reviews             dates  \\\n",
       "0  ✅ Trip Verified |  Filthy plane, cabin staff o...  28th August 2023   \n",
       "1  ✅ Trip Verified |   Chaos at Terminal 5 with B...  27th August 2023   \n",
       "2  Not Verified |  BA cancelled our flight and co...  27th August 2023   \n",
       "3  ✅ Trip Verified | When on our way to Heathrow ...  27th August 2023   \n",
       "4  ✅ Trip Verified | Nice flight, good crew, very...  26th August 2023   \n",
       "\n",
       "        countries  \n",
       "0  United Kingdom  \n",
       "1  United Kingdom  \n",
       "2  United Kingdom  \n",
       "3  United Kingdom  \n",
       "4   United States  "
      ]
     },
     "execution_count": 22,
     "metadata": {},
     "output_type": "execute_result"
    }
   ],
   "source": [
    "df.head()"
   ]
  },
  {
   "cell_type": "code",
   "execution_count": 23,
   "metadata": {},
   "outputs": [],
   "source": [
    "df['verified'] = df.reviews.str.contains(\"Trip Verified\")"
   ]
  },
  {
   "cell_type": "code",
   "execution_count": 24,
   "metadata": {},
   "outputs": [
    {
     "data": {
      "text/plain": [
       "0       True\n",
       "1       True\n",
       "2      False\n",
       "3       True\n",
       "4       True\n",
       "       ...  \n",
       "995     True\n",
       "996     True\n",
       "997     True\n",
       "998     True\n",
       "999     True\n",
       "Name: verified, Length: 1000, dtype: bool"
      ]
     },
     "execution_count": 24,
     "metadata": {},
     "output_type": "execute_result"
    }
   ],
   "source": [
    "df['verified']"
   ]
  },
  {
   "cell_type": "markdown",
   "metadata": {},
   "source": [
    "## Cleaning Reviews\n",
    "\n",
    "we will extract the column of reviews into a seperate dataframe and clean it for semantic analysis"
   ]
  },
  {
   "cell_type": "code",
   "execution_count": 25,
   "metadata": {},
   "outputs": [],
   "source": [
    "#for lemmatization of words we will use nltk library\n",
    "from nltk.stem import WordNetLemmatizer\n",
    "from nltk.corpus import stopwords\n",
    "lemma = WordNetLemmatizer()\n",
    "\n",
    "\n",
    "reviews_data = df.reviews.str.strip(\"✅ Trip Verified |\")\n",
    "\n",
    "#create an empty list to collect cleaned data corpus\n",
    "corpus =[]\n",
    "\n",
    "#loop through each review, remove punctuations, small case it, join it and add it to corpus\n",
    "for rev in reviews_data:\n",
    "    rev = re.sub('[^a-zA-Z]',' ', rev)\n",
    "    rev = rev.lower()\n",
    "    rev = rev.split()\n",
    "    rev = [lemma.lemmatize(word) for word in rev if word not in set(stopwords.words(\"english\"))]\n",
    "    rev = \" \".join(rev)\n",
    "    corpus.append(rev)"
   ]
  },
  {
   "cell_type": "code",
   "execution_count": 26,
   "metadata": {},
   "outputs": [],
   "source": [
    "# add the corpus to the original dataframe\n",
    "\n",
    "df['corpus'] = corpus"
   ]
  },
  {
   "cell_type": "code",
   "execution_count": 27,
   "metadata": {},
   "outputs": [
    {
     "data": {
      "text/html": [
       "<div>\n",
       "<style scoped>\n",
       "    .dataframe tbody tr th:only-of-type {\n",
       "        vertical-align: middle;\n",
       "    }\n",
       "\n",
       "    .dataframe tbody tr th {\n",
       "        vertical-align: top;\n",
       "    }\n",
       "\n",
       "    .dataframe thead th {\n",
       "        text-align: right;\n",
       "    }\n",
       "</style>\n",
       "<table border=\"1\" class=\"dataframe\">\n",
       "  <thead>\n",
       "    <tr style=\"text-align: right;\">\n",
       "      <th></th>\n",
       "      <th>reviews</th>\n",
       "      <th>dates</th>\n",
       "      <th>countries</th>\n",
       "      <th>verified</th>\n",
       "      <th>corpus</th>\n",
       "    </tr>\n",
       "  </thead>\n",
       "  <tbody>\n",
       "    <tr>\n",
       "      <th>0</th>\n",
       "      <td>✅ Trip Verified |  Filthy plane, cabin staff o...</td>\n",
       "      <td>28th August 2023</td>\n",
       "      <td>United Kingdom</td>\n",
       "      <td>True</td>\n",
       "      <td>filthy plane cabin staff ok appalling customer...</td>\n",
       "    </tr>\n",
       "    <tr>\n",
       "      <th>1</th>\n",
       "      <td>✅ Trip Verified |   Chaos at Terminal 5 with B...</td>\n",
       "      <td>27th August 2023</td>\n",
       "      <td>United Kingdom</td>\n",
       "      <td>True</td>\n",
       "      <td>chaos terminal ba cancellation delay staff giv...</td>\n",
       "    </tr>\n",
       "    <tr>\n",
       "      <th>2</th>\n",
       "      <td>Not Verified |  BA cancelled our flight and co...</td>\n",
       "      <td>27th August 2023</td>\n",
       "      <td>United Kingdom</td>\n",
       "      <td>False</td>\n",
       "      <td>verified ba cancelled flight could book u onto...</td>\n",
       "    </tr>\n",
       "    <tr>\n",
       "      <th>3</th>\n",
       "      <td>✅ Trip Verified | When on our way to Heathrow ...</td>\n",
       "      <td>27th August 2023</td>\n",
       "      <td>United Kingdom</td>\n",
       "      <td>True</td>\n",
       "      <td>way heathrow airport merely half hour schedule...</td>\n",
       "    </tr>\n",
       "    <tr>\n",
       "      <th>4</th>\n",
       "      <td>✅ Trip Verified | Nice flight, good crew, very...</td>\n",
       "      <td>26th August 2023</td>\n",
       "      <td>United States</td>\n",
       "      <td>True</td>\n",
       "      <td>nice flight good crew good seat food would exp...</td>\n",
       "    </tr>\n",
       "  </tbody>\n",
       "</table>\n",
       "</div>"
      ],
      "text/plain": [
       "                                             reviews             dates  \\\n",
       "0  ✅ Trip Verified |  Filthy plane, cabin staff o...  28th August 2023   \n",
       "1  ✅ Trip Verified |   Chaos at Terminal 5 with B...  27th August 2023   \n",
       "2  Not Verified |  BA cancelled our flight and co...  27th August 2023   \n",
       "3  ✅ Trip Verified | When on our way to Heathrow ...  27th August 2023   \n",
       "4  ✅ Trip Verified | Nice flight, good crew, very...  26th August 2023   \n",
       "\n",
       "        countries  verified                                             corpus  \n",
       "0  United Kingdom      True  filthy plane cabin staff ok appalling customer...  \n",
       "1  United Kingdom      True  chaos terminal ba cancellation delay staff giv...  \n",
       "2  United Kingdom     False  verified ba cancelled flight could book u onto...  \n",
       "3  United Kingdom      True  way heathrow airport merely half hour schedule...  \n",
       "4   United States      True  nice flight good crew good seat food would exp...  "
      ]
     },
     "execution_count": 27,
     "metadata": {},
     "output_type": "execute_result"
    }
   ],
   "source": [
    "df.head()"
   ]
  },
  {
   "cell_type": "markdown",
   "metadata": {},
   "source": [
    " Cleaning/ formating of date"
   ]
  },
  {
   "cell_type": "code",
   "execution_count": 28,
   "metadata": {},
   "outputs": [
    {
     "data": {
      "text/plain": [
       "reviews      object\n",
       "dates        object\n",
       "countries    object\n",
       "verified       bool\n",
       "corpus       object\n",
       "dtype: object"
      ]
     },
     "execution_count": 28,
     "metadata": {},
     "output_type": "execute_result"
    }
   ],
   "source": [
    "df.dtypes"
   ]
  },
  {
   "cell_type": "code",
   "execution_count": 31,
   "metadata": {},
   "outputs": [],
   "source": [
    "# convert the data to datatime format \n",
    "\n",
    "df.dates = pd.to_datetime(df['dates'], format='mixed')"
   ]
  },
  {
   "cell_type": "code",
   "execution_count": 32,
   "metadata": {},
   "outputs": [
    {
     "data": {
      "text/plain": [
       "0   2023-08-28\n",
       "1   2023-08-27\n",
       "2   2023-08-27\n",
       "3   2023-08-27\n",
       "4   2023-08-26\n",
       "Name: dates, dtype: datetime64[ns]"
      ]
     },
     "execution_count": 32,
     "metadata": {},
     "output_type": "execute_result"
    }
   ],
   "source": [
    "df.dates.head()"
   ]
  },
  {
   "cell_type": "markdown",
   "metadata": {},
   "source": [
    "Check for null Values "
   ]
  },
  {
   "cell_type": "code",
   "execution_count": 35,
   "metadata": {},
   "outputs": [
    {
     "data": {
      "text/plain": [
       "reviews  dates  countries  verified  corpus\n",
       "False    False  False      False     False     1000\n",
       "Name: count, dtype: int64"
      ]
     },
     "execution_count": 35,
     "metadata": {},
     "output_type": "execute_result"
    }
   ],
   "source": [
    "df.isnull().value_counts()\n",
    "\n"
   ]
  },
  {
   "cell_type": "code",
   "execution_count": 36,
   "metadata": {},
   "outputs": [
    {
     "data": {
      "text/plain": [
       "countries\n",
       "False    1000\n",
       "Name: count, dtype: int64"
      ]
     },
     "execution_count": 36,
     "metadata": {},
     "output_type": "execute_result"
    }
   ],
   "source": [
    "df.countries.isnull().value_counts()"
   ]
  },
  {
   "cell_type": "code",
   "execution_count": 37,
   "metadata": {},
   "outputs": [
    {
     "data": {
      "text/plain": [
       "(1000, 5)"
      ]
     },
     "execution_count": 37,
     "metadata": {},
     "output_type": "execute_result"
    }
   ],
   "source": [
    "df.shape "
   ]
  },
  {
   "cell_type": "code",
   "execution_count": 39,
   "metadata": {},
   "outputs": [
    {
     "data": {
      "text/html": [
       "<div>\n",
       "<style scoped>\n",
       "    .dataframe tbody tr th:only-of-type {\n",
       "        vertical-align: middle;\n",
       "    }\n",
       "\n",
       "    .dataframe tbody tr th {\n",
       "        vertical-align: top;\n",
       "    }\n",
       "\n",
       "    .dataframe thead th {\n",
       "        text-align: right;\n",
       "    }\n",
       "</style>\n",
       "<table border=\"1\" class=\"dataframe\">\n",
       "  <thead>\n",
       "    <tr style=\"text-align: right;\">\n",
       "      <th></th>\n",
       "      <th>reviews</th>\n",
       "      <th>dates</th>\n",
       "      <th>countries</th>\n",
       "      <th>verified</th>\n",
       "      <th>corpus</th>\n",
       "    </tr>\n",
       "  </thead>\n",
       "  <tbody>\n",
       "    <tr>\n",
       "      <th>0</th>\n",
       "      <td>✅ Trip Verified |  Filthy plane, cabin staff o...</td>\n",
       "      <td>2023-08-28</td>\n",
       "      <td>United Kingdom</td>\n",
       "      <td>True</td>\n",
       "      <td>filthy plane cabin staff ok appalling customer...</td>\n",
       "    </tr>\n",
       "    <tr>\n",
       "      <th>1</th>\n",
       "      <td>✅ Trip Verified |   Chaos at Terminal 5 with B...</td>\n",
       "      <td>2023-08-27</td>\n",
       "      <td>United Kingdom</td>\n",
       "      <td>True</td>\n",
       "      <td>chaos terminal ba cancellation delay staff giv...</td>\n",
       "    </tr>\n",
       "    <tr>\n",
       "      <th>2</th>\n",
       "      <td>Not Verified |  BA cancelled our flight and co...</td>\n",
       "      <td>2023-08-27</td>\n",
       "      <td>United Kingdom</td>\n",
       "      <td>False</td>\n",
       "      <td>verified ba cancelled flight could book u onto...</td>\n",
       "    </tr>\n",
       "    <tr>\n",
       "      <th>3</th>\n",
       "      <td>✅ Trip Verified | When on our way to Heathrow ...</td>\n",
       "      <td>2023-08-27</td>\n",
       "      <td>United Kingdom</td>\n",
       "      <td>True</td>\n",
       "      <td>way heathrow airport merely half hour schedule...</td>\n",
       "    </tr>\n",
       "    <tr>\n",
       "      <th>4</th>\n",
       "      <td>✅ Trip Verified | Nice flight, good crew, very...</td>\n",
       "      <td>2023-08-26</td>\n",
       "      <td>United States</td>\n",
       "      <td>True</td>\n",
       "      <td>nice flight good crew good seat food would exp...</td>\n",
       "    </tr>\n",
       "    <tr>\n",
       "      <th>...</th>\n",
       "      <td>...</td>\n",
       "      <td>...</td>\n",
       "      <td>...</td>\n",
       "      <td>...</td>\n",
       "      <td>...</td>\n",
       "    </tr>\n",
       "    <tr>\n",
       "      <th>995</th>\n",
       "      <td>✅ Trip Verified |  London to Philadelphia. I u...</td>\n",
       "      <td>2018-10-25</td>\n",
       "      <td>United States</td>\n",
       "      <td>True</td>\n",
       "      <td>london philadelphia upgraded coach business al...</td>\n",
       "    </tr>\n",
       "    <tr>\n",
       "      <th>996</th>\n",
       "      <td>✅ Trip Verified | Madrid to London. Good impro...</td>\n",
       "      <td>2018-10-24</td>\n",
       "      <td>Spain</td>\n",
       "      <td>True</td>\n",
       "      <td>madrid london good improvement ba club europe ...</td>\n",
       "    </tr>\n",
       "    <tr>\n",
       "      <th>997</th>\n",
       "      <td>✅ Trip Verified |  London to Munich. The groun...</td>\n",
       "      <td>2018-10-23</td>\n",
       "      <td>Germany</td>\n",
       "      <td>True</td>\n",
       "      <td>london munich ground staff friendly plane clea...</td>\n",
       "    </tr>\n",
       "    <tr>\n",
       "      <th>998</th>\n",
       "      <td>✅ Trip Verified |  London to Cape Town.  Waiti...</td>\n",
       "      <td>2018-10-23</td>\n",
       "      <td>France</td>\n",
       "      <td>True</td>\n",
       "      <td>london cape town waiting gate staff announced ...</td>\n",
       "    </tr>\n",
       "    <tr>\n",
       "      <th>999</th>\n",
       "      <td>✅ Trip Verified | Full flight from MUC to LHR ...</td>\n",
       "      <td>2018-10-22</td>\n",
       "      <td>Germany</td>\n",
       "      <td>True</td>\n",
       "      <td>full flight muc lhr british airway plus side g...</td>\n",
       "    </tr>\n",
       "  </tbody>\n",
       "</table>\n",
       "<p>1000 rows × 5 columns</p>\n",
       "</div>"
      ],
      "text/plain": [
       "                                               reviews      dates  \\\n",
       "0    ✅ Trip Verified |  Filthy plane, cabin staff o... 2023-08-28   \n",
       "1    ✅ Trip Verified |   Chaos at Terminal 5 with B... 2023-08-27   \n",
       "2    Not Verified |  BA cancelled our flight and co... 2023-08-27   \n",
       "3    ✅ Trip Verified | When on our way to Heathrow ... 2023-08-27   \n",
       "4    ✅ Trip Verified | Nice flight, good crew, very... 2023-08-26   \n",
       "..                                                 ...        ...   \n",
       "995  ✅ Trip Verified |  London to Philadelphia. I u... 2018-10-25   \n",
       "996  ✅ Trip Verified | Madrid to London. Good impro... 2018-10-24   \n",
       "997  ✅ Trip Verified |  London to Munich. The groun... 2018-10-23   \n",
       "998  ✅ Trip Verified |  London to Cape Town.  Waiti... 2018-10-23   \n",
       "999  ✅ Trip Verified | Full flight from MUC to LHR ... 2018-10-22   \n",
       "\n",
       "          countries  verified  \\\n",
       "0    United Kingdom      True   \n",
       "1    United Kingdom      True   \n",
       "2    United Kingdom     False   \n",
       "3    United Kingdom      True   \n",
       "4     United States      True   \n",
       "..              ...       ...   \n",
       "995   United States      True   \n",
       "996           Spain      True   \n",
       "997         Germany      True   \n",
       "998          France      True   \n",
       "999         Germany      True   \n",
       "\n",
       "                                                corpus  \n",
       "0    filthy plane cabin staff ok appalling customer...  \n",
       "1    chaos terminal ba cancellation delay staff giv...  \n",
       "2    verified ba cancelled flight could book u onto...  \n",
       "3    way heathrow airport merely half hour schedule...  \n",
       "4    nice flight good crew good seat food would exp...  \n",
       "..                                                 ...  \n",
       "995  london philadelphia upgraded coach business al...  \n",
       "996  madrid london good improvement ba club europe ...  \n",
       "997  london munich ground staff friendly plane clea...  \n",
       "998  london cape town waiting gate staff announced ...  \n",
       "999  full flight muc lhr british airway plus side g...  \n",
       "\n",
       "[1000 rows x 5 columns]"
      ]
     },
     "execution_count": 39,
     "metadata": {},
     "output_type": "execute_result"
    }
   ],
   "source": [
    "#Resetting the index \n",
    "\n",
    "df.reset_index(drop=True)"
   ]
  },
  {
   "cell_type": "markdown",
   "metadata": {},
   "source": [
    "Now my data is clean and ready for data visualization and data analysis "
   ]
  },
  {
   "cell_type": "code",
   "execution_count": 40,
   "metadata": {},
   "outputs": [],
   "source": [
    "#Export the clean data \n",
    "\n",
    "df.to_csv('cleaned-BA-reviews.csv')"
   ]
  }
 ],
 "metadata": {
  "kernelspec": {
   "display_name": "Python 3",
   "language": "python",
   "name": "python3"
  },
  "language_info": {
   "codemirror_mode": {
    "name": "ipython",
    "version": 3
   },
   "file_extension": ".py",
   "mimetype": "text/x-python",
   "name": "python",
   "nbconvert_exporter": "python",
   "pygments_lexer": "ipython3",
   "version": "3.11.4"
  },
  "orig_nbformat": 4
 },
 "nbformat": 4,
 "nbformat_minor": 2
}
